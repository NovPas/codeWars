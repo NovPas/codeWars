{
  "nbformat": 4,
  "nbformat_minor": 0,
  "metadata": {
    "colab": {
      "name": ".ipynb",
      "provenance": [],
      "collapsed_sections": [],
      "toc_visible": true,
      "authorship_tag": "ABX9TyMxm1o5zT7KtvqcIJ1mjraW",
      "include_colab_link": true
    },
    "kernelspec": {
      "name": "python3",
      "display_name": "Python 3"
    },
    "language_info": {
      "name": "python"
    }
  },
  "cells": [
    {
      "cell_type": "markdown",
      "metadata": {
        "id": "view-in-github",
        "colab_type": "text"
      },
      "source": [
        "<a href=\"https://colab.research.google.com/github/NovPas/codeWars/blob/main/Extract%20the%20domain%20name%20from%20a%20URL.ipynb\" target=\"_parent\"><img src=\"https://colab.research.google.com/assets/colab-badge.svg\" alt=\"Open In Colab\"/></a>"
      ]
    },
    {
      "cell_type": "markdown",
      "source": [
        "Write a function that when given a URL as a string, parses out just the domain name and returns it as a string. For example:\n",
        "\n",
        "* url = \"http://github.com/carbonfive/raygun\" -> domain name = \"github\"\n",
        "* url = \"http://www.zombie-bites.com\"         -> domain name = \"zombie-bites\"\n",
        "* url = \"https://www.cnet.com\"                -> domain name = cnet\""
      ],
      "metadata": {
        "id": "EYSCYlXR9RCU"
      }
    },
    {
      "cell_type": "code",
      "execution_count": 18,
      "metadata": {
        "colab": {
          "base_uri": "https://localhost:8080/",
          "height": 35
        },
        "id": "lSwKadVN89_H",
        "outputId": "09d5e780-95e3-4dcb-8829-376309b59923"
      },
      "outputs": [
        {
          "output_type": "execute_result",
          "data": {
            "text/plain": [
              "'xakep'"
            ],
            "application/vnd.google.colaboratory.intrinsic+json": {
              "type": "string"
            }
          },
          "metadata": {},
          "execution_count": 18
        }
      ],
      "source": [
        "def domain_name(url):   \n",
        "    firstLetter = max(url.find('p://'), url.find('s://'), url.find('www.'))\n",
        "    firstLetter = firstLetter+4 if firstLetter>=0 else 0\n",
        "    lastletter = url.find('.', firstLetter)\n",
        "    return url[firstLetter:lastletter]\n",
        "\n",
        "    # str.find(sub[, start[, end]] )\n",
        "  \n",
        "domain_name('www.xakep.ru')"
      ]
    },
    {
      "cell_type": "code",
      "source": [
        "def domain_name(url):\n",
        "    return url.split(\"//\")[-1].split(\"www.\")[-1].split(\".\")[0]"
      ],
      "metadata": {
        "colab": {
          "base_uri": "https://localhost:8080/"
        },
        "id": "tD9qgdJ9vBuW",
        "outputId": "a2a0e7f4-bdc0-456a-b8b2-076d0e2ae782"
      },
      "execution_count": 17,
      "outputs": [
        {
          "output_type": "execute_result",
          "data": {
            "text/plain": [
              "0"
            ]
          },
          "metadata": {},
          "execution_count": 17
        }
      ]
    },
    {
      "cell_type": "code",
      "source": [
        "test.assert_equals(domain_name(\"http://google.com\"), \"google\")\n",
        "test.assert_equals(domain_name(\"http://google.co.jp\"), \"google\")\n",
        "test.assert_equals(domain_name(\"www.xakep.ru\"), \"xakep\")\n",
        "test.assert_equals(domain_name(\"https://youtube.com\"), \"youtube\")"
      ],
      "metadata": {
        "id": "B3aNnSfI_CWt"
      },
      "execution_count": null,
      "outputs": []
    }
  ]
}